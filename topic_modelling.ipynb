{
 "cells": [
  {
   "cell_type": "code",
   "execution_count": 1,
   "metadata": {},
   "outputs": [],
   "source": [
    "doc1 = \"Sugar is bad to consume. My sister likes to have sugar, but not my father.\"\n",
    "doc2 = \"My father spends a lot of time driving my sister around to dance practice.\"\n",
    "doc3 = \"Doctors suggest that driving may cause increased stress and blood pressure.\"\n",
    "doc4 = \"Sometimes I feel pressure to perform well at school, but my father never seems to drive my sister to do better.\"\n",
    "doc5 = \"Health experts say that Sugar is not good for your lifestyle.\"\n",
    "\n",
    "# compile documents\n",
    "doc_complete = [doc1, doc2, doc3, doc4, doc5]"
   ]
  },
  {
   "cell_type": "code",
   "execution_count": 19,
   "metadata": {},
   "outputs": [],
   "source": [
    "#Cleaning and Preprocessing\n",
    "#Cleaning is an important step before any text mining task, in this step, we will remove the punctuations, \n",
    "#stopwords and normalize the corpus.\n",
    "from nltk.corpus import stopwords \n",
    "from nltk.stem.wordnet import WordNetLemmatizer\n",
    "import string\n",
    "\n"
   ]
  },
  {
   "cell_type": "code",
   "execution_count": 51,
   "metadata": {},
   "outputs": [],
   "source": [
    "stop = set(stopwords.words('english'))\n",
    "exclude = set(string.punctuation) \n",
    "\n",
    "lemma = WordNetLemmatizer()\n",
    "def clean(doc):\n",
    "    stop_free = \" \".join([i for i in doc.lower().split() if i not in stop])\n",
    "    punc_free = ''.join(ch for ch in stop_free if ch not in exclude)\n",
    "    normalized = \" \".join(lemma.lemmatize(word) for word in punc_free.split())\n",
    "    return normalized\n",
    "\n",
    "doc_clean = [clean(doc).split() for doc in doc_complete]"
   ]
  },
  {
   "cell_type": "code",
   "execution_count": 54,
   "metadata": {},
   "outputs": [],
   "source": [
    "#Preparing Document-Term Matrix\n",
    "# Importing Gensim\n",
    "import gensim\n",
    "from gensim import corpora\n",
    "\n",
    "# Creating the term dictionary of our courpus, where every unique term is assigned an index. \n",
    "dictionary = corpora.Dictionary(doc_clean)\n",
    "\n",
    "# Converting list of documents (corpus) into Document Term Matrix using dictionary prepared above.\n",
    "doc_term_matrix = [dictionary.doc2bow(doc) for doc in doc_clean]"
   ]
  },
  {
   "cell_type": "code",
   "execution_count": 60,
   "metadata": {},
   "outputs": [],
   "source": [
    "#Running LDA Model\n",
    "#Next step is to create an object for LDA model and train it on Document-Term matrix. The training also requires few \n",
    "#parameters as input which are explained in the above section. The gensim module \n",
    "#allows both LDA model estimation from a training corpus and inference of topic distribution on new, unseen documents.\n",
    "\n",
    "# Creating the object for LDA model using gensim library\n",
    "Lda = gensim.models.ldamodel.LdaModel\n"
   ]
  },
  {
   "cell_type": "code",
   "execution_count": 61,
   "metadata": {},
   "outputs": [],
   "source": [
    "# Running and Trainign LDA model on the document term matrix.\n",
    "ldamodel = Lda(doc_term_matrix, num_topics=3, id2word = dictionary, passes=50)"
   ]
  },
  {
   "cell_type": "code",
   "execution_count": 64,
   "metadata": {},
   "outputs": [
    {
     "name": "stdout",
     "output_type": "stream",
     "text": [
      "[(0, '0.029*\"sugar\" + 0.029*\"like\" + 0.029*\"consume\"'), (1, '0.069*\"father\" + 0.069*\"sister\" + 0.048*\"pressure\"'), (2, '0.076*\"sugar\" + 0.075*\"good\" + 0.075*\"health\"')]\n"
     ]
    }
   ],
   "source": [
    "#Now let see the results..here 0 ,1, 2 ... are topic and sugar,bad and  so on are word of  that topic\n",
    "print(ldamodel.print_topics(num_topics=3, num_words=3))\n",
    "#Each line is a topic with individual topic terms and weights.Here weight represents how important that word is for the topic?\n",
    "#Topic1 can be termed as Bad Health, and Topic3 can be termed as Family."
   ]
  },
  {
   "cell_type": "code",
   "execution_count": 66,
   "metadata": {},
   "outputs": [
    {
     "data": {
      "text/plain": [
       "'C:\\\\Users\\\\sunny'"
      ]
     },
     "execution_count": 66,
     "metadata": {},
     "output_type": "execute_result"
    }
   ],
   "source": [
    "#Tips to improve results of topic modeling\n",
    "#(1) Frequency Filter - \n",
    "    #Arrange every term according to its frequency.\n",
    "    #Terms with higher frequencies are more likely to appear in the results as compared ones with low frequency.\n",
    "    #The low frequency terms are essentially weak features of the corpus, hence it is a good practice to get rid \n",
    "        #of all those weak features.\n",
    "    #An exploratory analysis of terms and their frequency can help to decide what frequency value should be considered \n",
    "        #as the threshold.\n",
    "\n",
    "#(2) Part of Speech Tag Filter\n",
    "    #POS tag filter is more about the context of the features than frequencies of features\n",
    "    #So keeo the POS which is sensible\n",
    "#(3) Batch Wise LDA –\n",
    "    #In order to retrieve most important topic terms, a corpus can be divided into batches of fixed sizes.\n",
    "    #Running LDA multiple times on these batches will provide different results, however, the best topic\n",
    "    #terms will be the intersection of all batches.\n",
    "    \n",
    "import os\n",
    "os.getcwd()\n",
    "\n"
   ]
  }
 ],
 "metadata": {
  "kernelspec": {
   "display_name": "Python 3",
   "language": "python",
   "name": "python3"
  },
  "language_info": {
   "codemirror_mode": {
    "name": "ipython",
    "version": 3
   },
   "file_extension": ".py",
   "mimetype": "text/x-python",
   "name": "python",
   "nbconvert_exporter": "python",
   "pygments_lexer": "ipython3",
   "version": "3.6.5"
  }
 },
 "nbformat": 4,
 "nbformat_minor": 2
}
